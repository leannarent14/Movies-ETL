{
 "cells": [
  {
   "cell_type": "code",
   "execution_count": 1,
   "id": "eae724b0",
   "metadata": {},
   "outputs": [],
   "source": [
    "import json\n",
    "import pandas as pd\n",
    "import numpy as np"
   ]
  },
  {
   "cell_type": "code",
   "execution_count": 2,
   "id": "1d2eb0ba",
   "metadata": {},
   "outputs": [],
   "source": [
    "file_dir = 'C://Users/Leanna/Bootcamp/Module_8/Movie-ETL'"
   ]
  },
  {
   "cell_type": "code",
   "execution_count": null,
   "id": "13699693",
   "metadata": {},
   "outputs": [],
   "source": []
  }
 ],
 "metadata": {
  "kernelspec": {
   "display_name": "PythonData",
   "language": "python",
   "name": "pythondata"
  },
  "language_info": {
   "codemirror_mode": {
    "name": "ipython",
    "version": 3
   },
   "file_extension": ".py",
   "mimetype": "text/x-python",
   "name": "python",
   "nbconvert_exporter": "python",
   "pygments_lexer": "ipython3",
   "version": "3.8.8"
  }
 },
 "nbformat": 4,
 "nbformat_minor": 5
}
